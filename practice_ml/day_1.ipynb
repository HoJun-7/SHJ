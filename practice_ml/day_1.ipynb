{
 "cells": [
  {
   "cell_type": "code",
   "execution_count": 1,
   "metadata": {},
   "outputs": [
    {
     "name": "stdout",
     "output_type": "stream",
     "text": [
      "Requirement already satisfied: numpy in c:\\users\\302-09\\anaconda3\\lib\\site-packages (1.26.4)\n",
      "Note: you may need to restart the kernel to use updated packages.\n",
      "Requirement already satisfied: scikit-learn in c:\\users\\302-09\\anaconda3\\lib\\site-packages (1.5.1)\n",
      "Requirement already satisfied: numpy>=1.19.5 in c:\\users\\302-09\\anaconda3\\lib\\site-packages (from scikit-learn) (1.26.4)\n",
      "Requirement already satisfied: scipy>=1.6.0 in c:\\users\\302-09\\anaconda3\\lib\\site-packages (from scikit-learn) (1.13.1)\n",
      "Requirement already satisfied: joblib>=1.2.0 in c:\\users\\302-09\\anaconda3\\lib\\site-packages (from scikit-learn) (1.4.2)\n",
      "Requirement already satisfied: threadpoolctl>=3.1.0 in c:\\users\\302-09\\anaconda3\\lib\\site-packages (from scikit-learn) (3.5.0)\n",
      "Note: you may need to restart the kernel to use updated packages.\n"
     ]
    }
   ],
   "source": [
    "%pip install numpy\n",
    "%pip install scikit-learn"
   ]
  },
  {
   "cell_type": "code",
   "execution_count": null,
   "metadata": {},
   "outputs": [],
   "source": [
    "from sklearn.model_selection import train_test_split\n",
    "import numpy as np\n",
    "import pandas as pd\n",
    "\n",
    "feature_data = np.random.randint(0, 10, 50)\n",
    "label_data = np.random.randint(0, 2, 50)\n",
    "\n",
    "feature_train, feature_test, label_train, label_test = train_test_split(feature_data,\n",
    "                                                                        label_data,\n",
    "                                                                        test_size=0.3,\n",
    "                                                                        random_state= 42)"
   ]
  },
  {
   "cell_type": "code",
   "execution_count": null,
   "metadata": {},
   "outputs": [],
   "source": [
    "np.random.seed(2025)\n",
    "X = np.random.randint(0, 10, 50)\n",
    "Y = np.random.randint(0, 2, 50)\n",
    "print('원본 data : ', X[:10])\n",
    "print('원본 label :', Y[:10])\n",
    "\n",
    "train_X, test_X, train_Y, test_Y = train_test_split(X, Y, test_size= 0.2, random_state= 2025)\n",
    "print('split 후 train data : ', train_X[:10], len(train_X))\n",
    "print('split 후 train 답안지 : ', train_Y[:10], len(train_Y))\n",
    "print('split 후 test data : ', test_X[:10], len(test_X))\n",
    "print('split 후 test 답안지                                                    : ', test_Y[:10], len(test_Y))"
   ]
  }
 ],
 "metadata": {
  "kernelspec": {
   "display_name": "base",
   "language": "python",
   "name": "python3"
  },
  "language_info": {
   "codemirror_mode": {
    "name": "ipython",
    "version": 3
   },
   "file_extension": ".py",
   "mimetype": "text/x-python",
   "name": "python",
   "nbconvert_exporter": "python",
   "pygments_lexer": "ipython3",
   "version": "3.12.7"
  }
 },
 "nbformat": 4,
 "nbformat_minor": 2
}
